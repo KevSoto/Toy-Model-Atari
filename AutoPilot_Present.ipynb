{
 "cells": [
  {
   "cell_type": "code",
   "execution_count": 9,
   "id": "ed70b26f",
   "metadata": {},
   "outputs": [],
   "source": [
    "import gym\n",
    "from stable_baselines3 import PPO\n",
    "from stable_baselines3.common.vec_env import DummyVecEnv\n",
    "from stable_baselines3.common.evaluation import evaluate_policy\n",
    "import os"
   ]
  },
  {
   "cell_type": "code",
   "execution_count": 10,
   "id": "066faa5f",
   "metadata": {},
   "outputs": [],
   "source": [
    "environment_name = 'CarRacing-v0'\n",
    "env = gym.make(environment_name)"
   ]
  },
  {
   "cell_type": "code",
   "execution_count": 11,
   "id": "7674d9ed",
   "metadata": {},
   "outputs": [],
   "source": [
    "env = gym.make(environment_name)\n",
    "env = DummyVecEnv([lambda: env])"
   ]
  },
  {
   "cell_type": "code",
   "execution_count": 12,
   "id": "4961bb22",
   "metadata": {},
   "outputs": [
    {
     "name": "stdout",
     "output_type": "stream",
     "text": [
      "Wrapping the env in a VecTransposeImage.\n"
     ]
    }
   ],
   "source": [
    "ppo_path = os.path.join('Training', 'Saved Models', 'PPO_Driving_Model_100k')\n",
    "model = PPO.load(ppo_path,env)"
   ]
  },
  {
   "cell_type": "code",
   "execution_count": 14,
   "id": "2e2f5502",
   "metadata": {},
   "outputs": [
    {
     "name": "stdout",
     "output_type": "stream",
     "text": [
      "Track generation: 1013..1272 -> 259-tiles track\n",
      "retry to generate track (normal if there are not manyinstances of this message)\n",
      "Track generation: 1124..1417 -> 293-tiles track\n",
      "Track generation: 1151..1443 -> 292-tiles track\n",
      "Episode:1 Score:[60.959877]\n",
      "Track generation: 1112..1394 -> 282-tiles track\n",
      "Track generation: 1405..1760 -> 355-tiles track\n",
      "Episode:2 Score:[387.54053]\n",
      "Track generation: 1271..1593 -> 322-tiles track\n",
      "Track generation: 1140..1438 -> 298-tiles track\n",
      "Episode:3 Score:[199.06122]\n",
      "Track generation: 1103..1383 -> 280-tiles track\n",
      "Track generation: 1216..1524 -> 308-tiles track\n",
      "Episode:4 Score:[606.09283]\n",
      "Track generation: 1125..1410 -> 285-tiles track\n",
      "Track generation: 1156..1449 -> 293-tiles track\n",
      "Episode:5 Score:[435.20624]\n"
     ]
    }
   ],
   "source": [
    "episodes = 5\n",
    "for episode in range(1,episodes+1):\n",
    "  obs = env.reset()\n",
    "  done = False\n",
    "  score = 0\n",
    "\n",
    "  while not done:\n",
    "    env.render()\n",
    "    action, _ = model.predict(obs) #now using model\n",
    "    obs, reward, done, info = env.step(action)\n",
    "    score += reward\n",
    "  print('Episode:{} Score:{}'.format(episode, score))\n",
    "env.close()"
   ]
  },
  {
   "cell_type": "code",
   "execution_count": null,
   "id": "7a996f16",
   "metadata": {},
   "outputs": [],
   "source": []
  }
 ],
 "metadata": {
  "kernelspec": {
   "display_name": "Python 3 (ipykernel)",
   "language": "python",
   "name": "python3"
  },
  "language_info": {
   "codemirror_mode": {
    "name": "ipython",
    "version": 3
   },
   "file_extension": ".py",
   "mimetype": "text/x-python",
   "name": "python",
   "nbconvert_exporter": "python",
   "pygments_lexer": "ipython3",
   "version": "3.7.9"
  }
 },
 "nbformat": 4,
 "nbformat_minor": 5
}
